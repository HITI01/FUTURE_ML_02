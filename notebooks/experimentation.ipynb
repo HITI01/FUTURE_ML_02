{
 "cells": [
  {
   "cell_type": "code",
   "execution_count": null,
   "id": "6876b3e3",
   "metadata": {
    "vscode": {
     "languageId": "plaintext"
    }
   },
   "outputs": [],
   "source": [
    "# Import libraries\n",
    "import pandas as pd\n",
    "import matplotlib.pyplot as plt\n",
    "import seaborn as sns\n",
    "\n",
    "# Load data\n",
    "raw_data_path = '../data/raw/telecom_churn.csv'\n",
    "df = pd.read_csv(raw_data_path)\n",
    "\n",
    "# Basic overview\n",
    "print(df.head())\n",
    "print(df.info())\n",
    "print(df.describe())\n",
    "\n",
    "# Check missing values\n",
    "print(df.isnull().sum())\n",
    "\n",
    "# Visualize target distribution\n",
    "sns.countplot(x='Churn', data=df)\n",
    "plt.title(\"Churn Distribution\")\n",
    "plt.show()\n",
    "\n",
    "# Visualize some key features wrt Churn\n",
    "sns.boxplot(x='Churn', y='MonthlyCharges', data=df)\n",
    "plt.title(\"Monthly Charges vs Churn\")\n",
    "plt.show()\n",
    "\n",
    "sns.countplot(x='Contract', hue='Churn', data=df)\n",
    "plt.title(\"Contract Type vs Churn\")\n",
    "plt.show()\n",
    "\n",
    "# Correlation heatmap (numerical features)\n",
    "plt.figure(figsize=(10,8))\n",
    "sns.heatmap(df.corr(), annot=True, cmap='coolwarm')\n",
    "plt.title(\"Feature Correlation Heatmap\")\n",
    "plt.show()\n"
   ]
  }
 ],
 "metadata": {
  "language_info": {
   "name": "python"
  }
 },
 "nbformat": 4,
 "nbformat_minor": 5
}
